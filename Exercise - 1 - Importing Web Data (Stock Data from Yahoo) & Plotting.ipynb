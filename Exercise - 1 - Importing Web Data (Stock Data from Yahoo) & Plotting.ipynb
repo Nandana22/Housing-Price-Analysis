{
 "cells": [
  {
   "cell_type": "markdown",
   "metadata": {},
   "source": [
    "#### First, we import pandas as pd. This is just a common standard used when importing the Pandas module. Next, we import datetime, which we'll use in a moment to tell Pandas the end dates that we want to pull data between. Finally, we import data and wb from pandas_datareader, because we're going to use this to pull data from the internet."
   ]
  },
  {
   "cell_type": "code",
   "execution_count": 8,
   "metadata": {
    "collapsed": false
   },
   "outputs": [],
   "source": [
    "import pandas as pd\n",
    "import datetime\n",
    "from pandas_datareader import data, wb"
   ]
  },
  {
   "cell_type": "markdown",
   "metadata": {},
   "source": [
    "#### Add the start and end date. We are going to pull data between Aug 8, 2004 and May 12, 2017, i.e. ever since Google went public."
   ]
  },
  {
   "cell_type": "code",
   "execution_count": 31,
   "metadata": {
    "collapsed": true
   },
   "outputs": [],
   "source": [
    "start = datetime.datetime(2004, 8, 19)\n",
    "end = datetime.datetime(2017, 5, 12)"
   ]
  },
  {
   "cell_type": "code",
   "execution_count": null,
   "metadata": {
    "collapsed": true
   },
   "outputs": [],
   "source": [
    "#stocks = ['GOOG', 'TSLA', 'AAPL', 'NVDA', 'SNAP']\n",
    "df = web.DataReader(\"GOOG\", \"yahoo\", start, end)"
   ]
  },
  {
   "cell_type": "code",
   "execution_count": 41,
   "metadata": {
    "collapsed": false
   },
   "outputs": [
    {
     "name": "stdout",
     "output_type": "stream",
     "text": [
      "                  Open        High         Low       Close    Volume  \\\n",
      "Date                                                                   \n",
      "2004-08-19  100.000168  104.060182   95.960165  100.340176  44871300   \n",
      "2004-08-20  101.010175  109.080187  100.500174  108.310183  22942800   \n",
      "2004-08-23  110.750191  113.480193  109.050183  109.400185  18342800   \n",
      "2004-08-24  111.240189  111.600192  103.570177  104.870176  15319700   \n",
      "2004-08-25  104.960181  108.000187  103.880180  106.000184   9232100   \n",
      "2004-08-26  104.950180  107.950188  104.660179  107.910182   7128600   \n",
      "2004-08-27  108.100185  108.620186  105.690180  106.150181   6241200   \n",
      "2004-08-30  105.280178  105.490184  102.010172  102.010172   5221400   \n",
      "2004-08-31  102.300173  103.710180  102.160177  102.370175   4941200   \n",
      "2004-09-01  102.700174  102.970180   99.670169  100.250171   9181600   \n",
      "2004-09-02   99.190173  102.370175   98.940170  101.510173  15190400   \n",
      "2004-09-03  100.950174  101.740174   99.320168  100.010169   5176800   \n",
      "2004-09-07  101.010175  102.000178   99.610169  101.580175   5875200   \n",
      "2004-09-08  100.740176  103.030180  100.500174  102.300173   5009200   \n",
      "2004-09-09  102.530174  102.710175  101.000173  102.310174   4080900   \n",
      "2004-09-10  101.600178  106.560183  101.300176  105.330177   8740200   \n",
      "2004-09-13  106.630185  108.410189  106.460185  107.500188   7881300   \n",
      "2004-09-14  107.450181  112.000192  106.790184  111.490192  10880300   \n",
      "2004-09-15  110.560189  114.230195  110.200186  112.000192  10763900   \n",
      "2004-09-16  112.340192  115.800201  111.650191  113.970198   9310200   \n",
      "2004-09-17  114.420198  117.490200  113.550195  117.490200   9517400   \n",
      "2004-09-20  116.950204  121.600205  116.770202  119.360208  10679200   \n",
      "2004-09-21  119.810208  120.420206  117.510203  117.840202   7263000   \n",
      "2004-09-22  117.400203  119.670204  116.810200  118.380206   7617100   \n",
      "2004-09-23  118.840207  122.630207  117.020198  120.820207   8576100   \n",
      "2004-09-24  120.940208  124.100214  119.760209  119.830203   9166700   \n",
      "2004-09-27  119.560205  120.880207  117.800204  118.260205   7099600   \n",
      "2004-09-28  121.300211  127.400217  120.210209  126.860221  17009400   \n",
      "2004-09-29  126.700214  135.020238  126.230220  131.080225  30661400   \n",
      "2004-09-30  129.900219  132.300222  129.000219  129.600224  13823300   \n",
      "...                ...         ...         ...         ...       ...   \n",
      "2017-03-31  828.969971  831.640015  827.390015  829.559998   1397700   \n",
      "2017-04-03  829.219971  840.849976  829.219971  838.549988   1670200   \n",
      "2017-04-04  831.359985  835.179993  829.036011  834.570007   1044400   \n",
      "2017-04-05  835.510010  842.450012  830.719971  831.409973   1549400   \n",
      "2017-04-06  832.400024  836.390015  826.460022  827.880005   1251600   \n",
      "2017-04-07  827.960022  828.484985  820.513000  824.669983   1053300   \n",
      "2017-04-10  825.390015  829.349976  823.770020  824.729980    952900   \n",
      "2017-04-11  824.710022  827.427002  817.020020  823.349976   1076500   \n",
      "2017-04-12  821.929993  826.659973  821.020020  824.320007    894600   \n",
      "2017-04-13  822.140015  826.380005  821.440002  823.559998   1112500   \n",
      "2017-04-17  825.010010  837.750000  824.469971  837.169983    892300   \n",
      "2017-04-18  834.219971  838.929993  832.710022  836.820007    835300   \n",
      "2017-04-19  839.789978  842.219971  836.289978  838.210022    954200   \n",
      "2017-04-20  841.440002  845.200012  839.320007  841.650024    957300   \n",
      "2017-04-21  842.880005  843.880005  840.599976  843.190002   1319300   \n",
      "2017-04-24  851.200012  863.450012  849.859985  862.760010   1370500   \n",
      "2017-04-25  865.000000  875.000000  862.809998  872.299988   1669000   \n",
      "2017-04-26  874.229980  876.049988  867.747986  871.729980   1199000   \n",
      "2017-04-27  873.599976  875.400024  870.380005  874.250000   1937000   \n",
      "2017-04-28  910.659973  916.849976  905.770020  905.960022   3219500   \n",
      "2017-05-01  901.940002  915.679993  901.450012  912.570007   2114600   \n",
      "2017-05-02  909.619995  920.770020  909.453003  916.440002   1542200   \n",
      "2017-05-03  914.859985  928.099976  912.543030  927.039978   1489800   \n",
      "2017-05-04  926.070007  935.929993  924.590027  931.659973   1411600   \n",
      "2017-05-05  933.539978  934.900024  925.200012  927.130005   1904700   \n",
      "2017-05-08  926.119995  936.924988  925.260010  934.299988   1321500   \n",
      "2017-05-09  936.950012  937.500000  929.530029  932.169983   1580300   \n",
      "2017-05-10  931.979980  932.000000  925.159973  928.780029   1173900   \n",
      "2017-05-11  925.320007  932.530029  923.030029  930.599976    835000   \n",
      "2017-05-12  931.530029  933.440002  927.849976  932.219971   1038400   \n",
      "\n",
      "             Adj Close  \n",
      "Date                    \n",
      "2004-08-19   50.119968  \n",
      "2004-08-20   54.100990  \n",
      "2004-08-23   54.645447  \n",
      "2004-08-24   52.382705  \n",
      "2004-08-25   52.947145  \n",
      "2004-08-26   53.901190  \n",
      "2004-08-27   53.022069  \n",
      "2004-08-30   50.954132  \n",
      "2004-08-31   51.133953  \n",
      "2004-09-01   50.075011  \n",
      "2004-09-02   50.704382  \n",
      "2004-09-03   49.955130  \n",
      "2004-09-07   50.739348  \n",
      "2004-09-08   51.098988  \n",
      "2004-09-09   51.103983  \n",
      "2004-09-10   52.612476  \n",
      "2004-09-13   53.696398  \n",
      "2004-09-14   55.689407  \n",
      "2004-09-15   55.944152  \n",
      "2004-09-16   56.928171  \n",
      "2004-09-17   58.686414  \n",
      "2004-09-20   59.620484  \n",
      "2004-09-21   58.861240  \n",
      "2004-09-22   59.130972  \n",
      "2004-09-23   60.349754  \n",
      "2004-09-24   59.855246  \n",
      "2004-09-27   59.071031  \n",
      "2004-09-28   63.366744  \n",
      "2004-09-29   65.474638  \n",
      "2004-09-30   64.735377  \n",
      "...                ...  \n",
      "2017-03-31  829.559998  \n",
      "2017-04-03  838.549988  \n",
      "2017-04-04  834.570007  \n",
      "2017-04-05  831.409973  \n",
      "2017-04-06  827.880005  \n",
      "2017-04-07  824.669983  \n",
      "2017-04-10  824.729980  \n",
      "2017-04-11  823.349976  \n",
      "2017-04-12  824.320007  \n",
      "2017-04-13  823.559998  \n",
      "2017-04-17  837.169983  \n",
      "2017-04-18  836.820007  \n",
      "2017-04-19  838.210022  \n",
      "2017-04-20  841.650024  \n",
      "2017-04-21  843.190002  \n",
      "2017-04-24  862.760010  \n",
      "2017-04-25  872.299988  \n",
      "2017-04-26  871.729980  \n",
      "2017-04-27  874.250000  \n",
      "2017-04-28  905.960022  \n",
      "2017-05-01  912.570007  \n",
      "2017-05-02  916.440002  \n",
      "2017-05-03  927.039978  \n",
      "2017-05-04  931.659973  \n",
      "2017-05-05  927.130005  \n",
      "2017-05-08  934.299988  \n",
      "2017-05-09  932.169983  \n",
      "2017-05-10  928.780029  \n",
      "2017-05-11  930.599976  \n",
      "2017-05-12  932.219971  \n",
      "\n",
      "[3206 rows x 6 columns]\n"
     ]
    }
   ],
   "source": [
    "print(df)"
   ]
  },
  {
   "cell_type": "markdown",
   "metadata": {},
   "source": [
    "### Save the data frame as a CSV file. Note that we specify index=False so that the auto-generated indices (row #s 0,1,2,3,4) are not included. Make Index = True if you need the index column. As far as this data goes, the date column is the  index. So, I am gonna say Index = True"
   ]
  },
  {
   "cell_type": "code",
   "execution_count": 44,
   "metadata": {
    "collapsed": false
   },
   "outputs": [],
   "source": [
    "df.to_csv('google.csv', index=True)"
   ]
  },
  {
   "cell_type": "code",
   "execution_count": 45,
   "metadata": {
    "collapsed": true
   },
   "outputs": [],
   "source": [
    "### Check the current working directory to see how the csv file looks like."
   ]
  },
  {
   "cell_type": "code",
   "execution_count": 53,
   "metadata": {
    "collapsed": false
   },
   "outputs": [
    {
     "data": {
      "text/plain": [
       "Index([u'Open', u'High', u'Low', u'Close', u'Volume', u'Adj Close'], dtype='object')"
      ]
     },
     "execution_count": 53,
     "metadata": {},
     "output_type": "execute_result"
    }
   ],
   "source": [
    "# What kind of data does it have?? \n",
    "df.columns"
   ]
  },
  {
   "cell_type": "code",
   "execution_count": 54,
   "metadata": {
    "collapsed": false
   },
   "outputs": [
    {
     "data": {
      "text/html": [
       "<div>\n",
       "<table border=\"1\" class=\"dataframe\">\n",
       "  <thead>\n",
       "    <tr style=\"text-align: right;\">\n",
       "      <th></th>\n",
       "      <th>Open</th>\n",
       "      <th>High</th>\n",
       "      <th>Low</th>\n",
       "      <th>Close</th>\n",
       "      <th>Volume</th>\n",
       "      <th>Adj Close</th>\n",
       "    </tr>\n",
       "    <tr>\n",
       "      <th>Date</th>\n",
       "      <th></th>\n",
       "      <th></th>\n",
       "      <th></th>\n",
       "      <th></th>\n",
       "      <th></th>\n",
       "      <th></th>\n",
       "    </tr>\n",
       "  </thead>\n",
       "  <tbody>\n",
       "    <tr>\n",
       "      <th>2004-08-19</th>\n",
       "      <td>100.000168</td>\n",
       "      <td>104.060182</td>\n",
       "      <td>95.960165</td>\n",
       "      <td>100.340176</td>\n",
       "      <td>44871300</td>\n",
       "      <td>50.119968</td>\n",
       "    </tr>\n",
       "    <tr>\n",
       "      <th>2004-08-20</th>\n",
       "      <td>101.010175</td>\n",
       "      <td>109.080187</td>\n",
       "      <td>100.500174</td>\n",
       "      <td>108.310183</td>\n",
       "      <td>22942800</td>\n",
       "      <td>54.100990</td>\n",
       "    </tr>\n",
       "    <tr>\n",
       "      <th>2004-08-23</th>\n",
       "      <td>110.750191</td>\n",
       "      <td>113.480193</td>\n",
       "      <td>109.050183</td>\n",
       "      <td>109.400185</td>\n",
       "      <td>18342800</td>\n",
       "      <td>54.645447</td>\n",
       "    </tr>\n",
       "    <tr>\n",
       "      <th>2004-08-24</th>\n",
       "      <td>111.240189</td>\n",
       "      <td>111.600192</td>\n",
       "      <td>103.570177</td>\n",
       "      <td>104.870176</td>\n",
       "      <td>15319700</td>\n",
       "      <td>52.382705</td>\n",
       "    </tr>\n",
       "    <tr>\n",
       "      <th>2004-08-25</th>\n",
       "      <td>104.960181</td>\n",
       "      <td>108.000187</td>\n",
       "      <td>103.880180</td>\n",
       "      <td>106.000184</td>\n",
       "      <td>9232100</td>\n",
       "      <td>52.947145</td>\n",
       "    </tr>\n",
       "  </tbody>\n",
       "</table>\n",
       "</div>"
      ],
      "text/plain": [
       "                  Open        High         Low       Close    Volume  \\\n",
       "Date                                                                   \n",
       "2004-08-19  100.000168  104.060182   95.960165  100.340176  44871300   \n",
       "2004-08-20  101.010175  109.080187  100.500174  108.310183  22942800   \n",
       "2004-08-23  110.750191  113.480193  109.050183  109.400185  18342800   \n",
       "2004-08-24  111.240189  111.600192  103.570177  104.870176  15319700   \n",
       "2004-08-25  104.960181  108.000187  103.880180  106.000184   9232100   \n",
       "\n",
       "            Adj Close  \n",
       "Date                   \n",
       "2004-08-19  50.119968  \n",
       "2004-08-20  54.100990  \n",
       "2004-08-23  54.645447  \n",
       "2004-08-24  52.382705  \n",
       "2004-08-25  52.947145  "
      ]
     },
     "execution_count": 54,
     "metadata": {},
     "output_type": "execute_result"
    }
   ],
   "source": [
    "# See the first few rows\n",
    "# It is useful for debugging and just generally seeing what your dataframe looks like.\n",
    "df.head()"
   ]
  },
  {
   "cell_type": "markdown",
   "metadata": {},
   "source": [
    "#### Data Visualization. Pandas works great with other modules, Matplotlib being one of them. Pyplot is the basic matplotlib graphing module. Style helps us quickly make our graphs look good, and style.use lets us choose a style. "
   ]
  },
  {
   "cell_type": "code",
   "execution_count": 55,
   "metadata": {
    "collapsed": true
   },
   "outputs": [],
   "source": [
    "import matplotlib.pyplot as plt\n",
    "from matplotlib import style\n",
    "\n",
    "style.use('fivethirtyeight')"
   ]
  },
  {
   "cell_type": "code",
   "execution_count": 56,
   "metadata": {
    "collapsed": false
   },
   "outputs": [
    {
     "data": {
      "image/png": "[encoded data removed]",
      "text/plain": [
       "<matplotlib.figure.Figure at 0xac8de80>"
      ]
     },
     "metadata": {},
     "output_type": "display_data"
    }
   ],
   "source": [
    "# Let's plot the Adjusted close price column in the data frame.\n",
    "df['Adj Close'].plot()\n",
    "plt.legend()\n",
    "plt.show()"
   ]
  },
  {
   "cell_type": "code",
   "execution_count": null,
   "metadata": {
    "collapsed": true
   },
   "outputs": [],
   "source": []
  }
 ],
 "metadata": {
  "anaconda-cloud": {},
  "kernelspec": {
   "display_name": "Python [default]",
   "language": "python",
   "name": "python2"
  },
  "language_info": {
   "codemirror_mode": {
    "name": "ipython",
    "version": 2
   },
   "file_extension": ".py",
   "mimetype": "text/x-python",
   "name": "python",
   "nbconvert_exporter": "python",
   "pygments_lexer": "ipython2",
   "version": "2.7.12"
  }
 },
 "nbformat": 4,
 "nbformat_minor": 1
}
